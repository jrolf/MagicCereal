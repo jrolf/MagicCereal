{
 "cells": [
  {
   "cell_type": "code",
   "execution_count": 1,
   "metadata": {
    "collapsed": true
   },
   "outputs": [],
   "source": [
    "import pandas as pd\n",
    "import numpy as np\n",
    "import statsmodels.api as sm\n",
    "from sklearn.linear_model import LinearRegression as OLS\n",
    "import datetime,math\n",
    "from random import *\n",
    "from copy import *\n",
    "seed(123) "
   ]
  },
  {
   "cell_type": "code",
   "execution_count": 2,
   "metadata": {
    "collapsed": true
   },
   "outputs": [],
   "source": [
    "import seaborn as sns\n",
    "import matplotlib.pyplot as plt\n",
    "%matplotlib inline"
   ]
  },
  {
   "cell_type": "code",
   "execution_count": 3,
   "metadata": {
    "collapsed": true
   },
   "outputs": [],
   "source": [
    "##############################################################\n",
    "##############################################################"
   ]
  },
  {
   "cell_type": "code",
   "execution_count": 4,
   "metadata": {
    "collapsed": true
   },
   "outputs": [],
   "source": [
    "# Converts Datetime to Decimal Year: \n",
    "def dt2dec(dt_obj,base_year=2000,rounded=True):\n",
    "    try:    \n",
    "        Year = dt_obj.year\n",
    "    except: \n",
    "        dt_obj = pd.to_datetime(dt_obj)\n",
    "        Year = dt_obj.year\n",
    "    year_beg = datetime.datetime(Year,1,1)\n",
    "    year_end = datetime.datetime(Year+1,1,1)\n",
    "    tot_sec  = (year_end-year_beg).total_seconds()\n",
    "    elapsed  = (dt_obj  -year_beg).total_seconds()\n",
    "    Portion  = elapsed/float(tot_sec) \n",
    "    dec_year = Year+Portion-base_year\n",
    "    if rounded: dec_year = round(dec_year,7) # To Second.\n",
    "    return dec_year\n",
    "\n",
    "# Converts Decimal Year to DateTime Object \n",
    "def dec2dt(dec_year,base_year=2000):\n",
    "    Portion = dec_year-int(dec_year)\n",
    "    Year = int(dec_year)+base_year   \n",
    "    year_beg = datetime.datetime(Year,1,1)\n",
    "    year_end = datetime.datetime(Year+1,1,1)\n",
    "    tot_sec  = (year_end-year_beg).total_seconds()\n",
    "    elapsed  = int(round(tot_sec*Portion)) \n",
    "    delta = datetime.timedelta(seconds=elapsed)\n",
    "    dt_obj = year_beg+delta\n",
    "    return dt_obj    "
   ]
  },
  {
   "cell_type": "code",
   "execution_count": 5,
   "metadata": {
    "collapsed": true
   },
   "outputs": [],
   "source": [
    "# Converts a distribution to Z-Score Values: \n",
    "def ConvertToZ(thing):\n",
    "    a = np.array(thing)\n",
    "    return (a-a.mean())/a.std() \n",
    "\n",
    "# Subtracts a mean from a distribution:\n",
    "def DeMean(thing):\n",
    "    a = np.array(thing)\n",
    "    return a-a.mean()  \n",
    "\n",
    "def SeasonEffect(dec_yr,offset=0.0,cycles_per_yr=1.0):\n",
    "    sea = math.cos((cycles_per_yr*2.0)*(dec_yr-offset)*math.pi)\n",
    "    return round(sea,9) "
   ]
  },
  {
   "cell_type": "code",
   "execution_count": 6,
   "metadata": {
    "collapsed": true
   },
   "outputs": [],
   "source": [
    "##############################################################\n",
    "##############################################################"
   ]
  },
  {
   "cell_type": "code",
   "execution_count": 7,
   "metadata": {
    "collapsed": true
   },
   "outputs": [],
   "source": [
    "# LETS Make a data set!!"
   ]
  },
  {
   "cell_type": "code",
   "execution_count": 8,
   "metadata": {
    "collapsed": true
   },
   "outputs": [],
   "source": [
    "fn = 'DATA/ZipInfo.csv'\n",
    "Zip = pd.read_csv(fn)"
   ]
  },
  {
   "cell_type": "code",
   "execution_count": 9,
   "metadata": {
    "collapsed": false
   },
   "outputs": [],
   "source": [
    "Zip['NW_VAL'] = Zip['LAT']-Zip['LON'] \n",
    "Zip['NW_Z']   = ConvertToZ(Zip['NW_VAL']) "
   ]
  },
  {
   "cell_type": "code",
   "execution_count": 10,
   "metadata": {
    "collapsed": false
   },
   "outputs": [
    {
     "name": "stdout",
     "output_type": "stream",
     "text": [
      "BaseSample Len: 652686\n"
     ]
    }
   ],
   "source": [
    "N_Students = 217483\n",
    "N_Zipcodes = len(Zip) \n",
    "\n",
    "Sample_Ave = N_Students/float(N_Zipcodes) \n",
    "Zip['POP_RATIO'] = Zip['POP_TOT']/Zip['POP_TOT'].mean() \n",
    "Zip['LG_SAMPLE'] = [int(round(ratio*Sample_Ave*3.001)) for ratio in Zip['POP_RATIO']] \n",
    "\n",
    "BaseSample = []\n",
    "for z,n in zip(Zip['ZIP'],Zip['LG_SAMPLE']): \n",
    "    for _ in range(n):\n",
    "        BaseSample.append(z)\n",
    "        \n",
    "MidI = int(len(BaseSample)/2.0)\n",
    "for _ in range(10):\n",
    "    BaseSample = BaseSample[:MidI]+BaseSample[MidI:]\n",
    "    shuffle(BaseSample) \n",
    "    \n",
    "print 'BaseSample Len:',len(BaseSample) "
   ]
  },
  {
   "cell_type": "code",
   "execution_count": 11,
   "metadata": {
    "collapsed": false
   },
   "outputs": [
    {
     "data": {
      "text/html": [
       "<div>\n",
       "<table border=\"1\" class=\"dataframe\">\n",
       "  <thead>\n",
       "    <tr style=\"text-align: right;\">\n",
       "      <th></th>\n",
       "      <th>ZIP</th>\n",
       "      <th>LAT</th>\n",
       "      <th>LON</th>\n",
       "      <th>POP_TOT</th>\n",
       "      <th>NW_VAL</th>\n",
       "      <th>NW_Z</th>\n",
       "      <th>POP_RATIO</th>\n",
       "      <th>LG_SAMPLE</th>\n",
       "    </tr>\n",
       "  </thead>\n",
       "  <tbody>\n",
       "    <tr>\n",
       "      <th>0</th>\n",
       "      <td>85607</td>\n",
       "      <td>31.480</td>\n",
       "      <td>-109.476</td>\n",
       "      <td>21131.0</td>\n",
       "      <td>140.956</td>\n",
       "      <td>0.745408</td>\n",
       "      <td>0.942349</td>\n",
       "      <td>130</td>\n",
       "    </tr>\n",
       "    <tr>\n",
       "      <th>1</th>\n",
       "      <td>29330</td>\n",
       "      <td>35.052</td>\n",
       "      <td>-81.808</td>\n",
       "      <td>7973.0</td>\n",
       "      <td>116.860</td>\n",
       "      <td>-0.803786</td>\n",
       "      <td>0.355561</td>\n",
       "      <td>49</td>\n",
       "    </tr>\n",
       "    <tr>\n",
       "      <th>2</th>\n",
       "      <td>98011</td>\n",
       "      <td>47.754</td>\n",
       "      <td>-122.201</td>\n",
       "      <td>26380.0</td>\n",
       "      <td>169.955</td>\n",
       "      <td>2.609828</td>\n",
       "      <td>1.176431</td>\n",
       "      <td>162</td>\n",
       "    </tr>\n",
       "    <tr>\n",
       "      <th>3</th>\n",
       "      <td>31757</td>\n",
       "      <td>30.870</td>\n",
       "      <td>-83.872</td>\n",
       "      <td>9771.0</td>\n",
       "      <td>114.742</td>\n",
       "      <td>-0.939958</td>\n",
       "      <td>0.435743</td>\n",
       "      <td>60</td>\n",
       "    </tr>\n",
       "    <tr>\n",
       "      <th>4</th>\n",
       "      <td>10901</td>\n",
       "      <td>41.161</td>\n",
       "      <td>-74.139</td>\n",
       "      <td>21760.0</td>\n",
       "      <td>115.300</td>\n",
       "      <td>-0.904083</td>\n",
       "      <td>0.970400</td>\n",
       "      <td>134</td>\n",
       "    </tr>\n",
       "  </tbody>\n",
       "</table>\n",
       "</div>"
      ],
      "text/plain": [
       "     ZIP     LAT      LON  POP_TOT   NW_VAL      NW_Z  POP_RATIO  LG_SAMPLE\n",
       "0  85607  31.480 -109.476  21131.0  140.956  0.745408   0.942349        130\n",
       "1  29330  35.052  -81.808   7973.0  116.860 -0.803786   0.355561         49\n",
       "2  98011  47.754 -122.201  26380.0  169.955  2.609828   1.176431        162\n",
       "3  31757  30.870  -83.872   9771.0  114.742 -0.939958   0.435743         60\n",
       "4  10901  41.161  -74.139  21760.0  115.300 -0.904083   0.970400        134"
      ]
     },
     "execution_count": 11,
     "metadata": {},
     "output_type": "execute_result"
    }
   ],
   "source": [
    "Zip.head(5)"
   ]
  },
  {
   "cell_type": "code",
   "execution_count": 12,
   "metadata": {
    "collapsed": false
   },
   "outputs": [
    {
     "name": "stdout",
     "output_type": "stream",
     "text": [
      "37.28 -92.082\n"
     ]
    }
   ],
   "source": [
    "Center = [37.44,-92.40]  \n",
    "lat,lon = Zip['LAT'].mean(),Zip['LON'].mean()\n",
    "print round(lat,4),round(lon,4)"
   ]
  },
  {
   "cell_type": "code",
   "execution_count": 13,
   "metadata": {
    "collapsed": true
   },
   "outputs": [],
   "source": [
    "Zip2 = deepcopy(Zip)\n",
    "Zip2['RANDOM_G'] = [gauss(0,1)   for _ in range(len(Zip2))] \n",
    "Zip2['RANDOM_U'] = [uniform(0,1) for _ in range(len(Zip2))] \n",
    "Zip2.index = [int(a) for a in Zip2['ZIP']] "
   ]
  },
  {
   "cell_type": "code",
   "execution_count": 14,
   "metadata": {
    "collapsed": false
   },
   "outputs": [
    {
     "data": {
      "text/html": [
       "<div>\n",
       "<table border=\"1\" class=\"dataframe\">\n",
       "  <thead>\n",
       "    <tr style=\"text-align: right;\">\n",
       "      <th></th>\n",
       "      <th>ZIP</th>\n",
       "      <th>LAT</th>\n",
       "      <th>LON</th>\n",
       "      <th>POP_TOT</th>\n",
       "      <th>NW_VAL</th>\n",
       "      <th>NW_Z</th>\n",
       "      <th>POP_RATIO</th>\n",
       "      <th>LG_SAMPLE</th>\n",
       "      <th>RANDOM_G</th>\n",
       "      <th>RANDOM_U</th>\n",
       "    </tr>\n",
       "  </thead>\n",
       "  <tbody>\n",
       "    <tr>\n",
       "      <th>85607</th>\n",
       "      <td>85607</td>\n",
       "      <td>31.480</td>\n",
       "      <td>-109.476</td>\n",
       "      <td>21131.0</td>\n",
       "      <td>140.956</td>\n",
       "      <td>0.745408</td>\n",
       "      <td>0.942349</td>\n",
       "      <td>130</td>\n",
       "      <td>-0.989999</td>\n",
       "      <td>0.902590</td>\n",
       "    </tr>\n",
       "    <tr>\n",
       "      <th>29330</th>\n",
       "      <td>29330</td>\n",
       "      <td>35.052</td>\n",
       "      <td>-81.808</td>\n",
       "      <td>7973.0</td>\n",
       "      <td>116.860</td>\n",
       "      <td>-0.803786</td>\n",
       "      <td>0.355561</td>\n",
       "      <td>49</td>\n",
       "      <td>0.851161</td>\n",
       "      <td>0.386959</td>\n",
       "    </tr>\n",
       "    <tr>\n",
       "      <th>98011</th>\n",
       "      <td>98011</td>\n",
       "      <td>47.754</td>\n",
       "      <td>-122.201</td>\n",
       "      <td>26380.0</td>\n",
       "      <td>169.955</td>\n",
       "      <td>2.609828</td>\n",
       "      <td>1.176431</td>\n",
       "      <td>162</td>\n",
       "      <td>0.538664</td>\n",
       "      <td>0.015808</td>\n",
       "    </tr>\n",
       "    <tr>\n",
       "      <th>31757</th>\n",
       "      <td>31757</td>\n",
       "      <td>30.870</td>\n",
       "      <td>-83.872</td>\n",
       "      <td>9771.0</td>\n",
       "      <td>114.742</td>\n",
       "      <td>-0.939958</td>\n",
       "      <td>0.435743</td>\n",
       "      <td>60</td>\n",
       "      <td>0.318246</td>\n",
       "      <td>0.483532</td>\n",
       "    </tr>\n",
       "    <tr>\n",
       "      <th>10901</th>\n",
       "      <td>10901</td>\n",
       "      <td>41.161</td>\n",
       "      <td>-74.139</td>\n",
       "      <td>21760.0</td>\n",
       "      <td>115.300</td>\n",
       "      <td>-0.904083</td>\n",
       "      <td>0.970400</td>\n",
       "      <td>134</td>\n",
       "      <td>-0.305882</td>\n",
       "      <td>0.930786</td>\n",
       "    </tr>\n",
       "  </tbody>\n",
       "</table>\n",
       "</div>"
      ],
      "text/plain": [
       "         ZIP     LAT      LON  POP_TOT   NW_VAL      NW_Z  POP_RATIO  \\\n",
       "85607  85607  31.480 -109.476  21131.0  140.956  0.745408   0.942349   \n",
       "29330  29330  35.052  -81.808   7973.0  116.860 -0.803786   0.355561   \n",
       "98011  98011  47.754 -122.201  26380.0  169.955  2.609828   1.176431   \n",
       "31757  31757  30.870  -83.872   9771.0  114.742 -0.939958   0.435743   \n",
       "10901  10901  41.161  -74.139  21760.0  115.300 -0.904083   0.970400   \n",
       "\n",
       "       LG_SAMPLE  RANDOM_G  RANDOM_U  \n",
       "85607        130 -0.989999  0.902590  \n",
       "29330         49  0.851161  0.386959  \n",
       "98011        162  0.538664  0.015808  \n",
       "31757         60  0.318246  0.483532  \n",
       "10901        134 -0.305882  0.930786  "
      ]
     },
     "execution_count": 14,
     "metadata": {},
     "output_type": "execute_result"
    }
   ],
   "source": [
    "Zip2.head()"
   ]
  },
  {
   "cell_type": "code",
   "execution_count": 15,
   "metadata": {
    "collapsed": false
   },
   "outputs": [],
   "source": [
    "zip2state,zip2nwz,zip2rge = {},{},{} \n",
    "zip2lat,zip2lon = {},{} \n",
    "for r in Zip2.iterrows():\n",
    "    d = r[1]\n",
    "    z = d['ZIP'] \n",
    "    zip2nwz[z]   = d['NW_Z']\n",
    "    zip2rge[z]   = d['RANDOM_G'] \n",
    "    zip2lat[z]   = d['LAT']\n",
    "    zip2lon[z]   = d['LON'] "
   ]
  },
  {
   "cell_type": "code",
   "execution_count": 16,
   "metadata": {
    "collapsed": true
   },
   "outputs": [],
   "source": [
    "##############################################################\n",
    "##############################################################"
   ]
  },
  {
   "cell_type": "code",
   "execution_count": 17,
   "metadata": {
    "collapsed": false
   },
   "outputs": [
    {
     "name": "stdout",
     "output_type": "stream",
     "text": [
      "Random Names:  500000\n",
      "Number Unique: 476191\n",
      "Ratio Unique:  0.952382\n"
     ]
    }
   ],
   "source": [
    "Alphas = set(list('ABCDEFGHJKLMNOPQRSTUVXYZ'))\n",
    "LenNames = 5\n",
    "NumNames = 500000\n",
    "Names = [''.join(sample(Alphas,LenNames)) for _ in range(NumNames)] \n",
    "Names = list(set(Names))\n",
    "\n",
    "MidI = int(len(Names)/2.0)\n",
    "for _ in range(10):\n",
    "    Names = Names[:MidI]+Names[MidI:]\n",
    "    shuffle(Names)\n",
    "\n",
    "print 'Random Names: ',NumNames \n",
    "print 'Number Unique:',len(Names)\n",
    "print 'Ratio Unique: ',len(Names)/float(NumNames)"
   ]
  },
  {
   "cell_type": "code",
   "execution_count": 18,
   "metadata": {
    "collapsed": true
   },
   "outputs": [],
   "source": [
    "##############################################################\n",
    "##############################################################"
   ]
  },
  {
   "cell_type": "code",
   "execution_count": 19,
   "metadata": {
    "collapsed": true
   },
   "outputs": [],
   "source": [
    "# DATA GENERATION PARAMETERS\n",
    "NumStu  = 237546 \n",
    "MinDecD = 16.0\n",
    "MaxDecD = 18.0 \n",
    "Treatmt = 0.19  "
   ]
  },
  {
   "cell_type": "code",
   "execution_count": 20,
   "metadata": {
    "collapsed": false
   },
   "outputs": [],
   "source": [
    "# Create a Test Scores DataFrame: \n",
    "TS = pd.DataFrame()\n",
    "TS['STU_ID'] = Names[:NumStu] \n",
    "TS['ZIP']    = BaseSample[:NumStu] \n",
    "IRange = range(len(TS)) \n",
    "\n",
    "#TS['STATE']  = [zip2state[z] for z in TS['ZIP']] # State Associated w/Zip \n",
    "TS['ZIP_RE'] = [zip2rge[z]   for z in TS['ZIP']] # ZipCode Random Effect\n",
    "TS['NW_RE']  = [zip2nwz[z]   for z in TS['ZIP']] # NorthWest Random Effect\n",
    "TS['LAT']    = [zip2lat[z]   for z in TS['ZIP']] \n",
    "TS['LON']    = [zip2lon[z]   for z in TS['ZIP']] \n",
    "\n",
    "TS['STU_ST'] = [round(max( 0.0,gauss( 20,20))) for _ in IRange]  # Student Study Time\n",
    "TS['STU_IQ'] = [round(max(70.0,gauss(105,15))) for _ in IRange]  # Student IQ Score \n",
    "TS['STU_BF'] = [int(bool(uniform(0,1)<0.6))    for _ in IRange]  # Student Eats Breakfast \n",
    "TS['STU_SK'] = [randint(1,99)                  for _ in IRange]  # Student Skill at testing\n",
    "TS['STU_LK'] = [randint(1,99)                  for _ in IRange]  # Student Luck on test day \n",
    "\n",
    "TS['DEC_DT'] = [round(uniform(MinDecD,MaxDecD),3) for _ in IRange] \n",
    "TS['DATE']   = [str(dec2dt(dec))[:10] for dec in TS['DEC_DT']] \n",
    "TS['LIN_TM'] = [dec-MinDecD for dec in TS['DEC_DT']]                # Linear Time\n",
    "TS['SEA_TM'] = [SeasonEffect(dec,+0.234) for dec in TS['DEC_DT']]   # Season Time "
   ]
  },
  {
   "cell_type": "code",
   "execution_count": 21,
   "metadata": {
    "collapsed": false
   },
   "outputs": [
    {
     "data": {
      "text/html": [
       "<div>\n",
       "<table border=\"1\" class=\"dataframe\">\n",
       "  <thead>\n",
       "    <tr style=\"text-align: right;\">\n",
       "      <th></th>\n",
       "      <th>STU_ID</th>\n",
       "      <th>ZIP</th>\n",
       "      <th>ZIP_RE</th>\n",
       "      <th>NW_RE</th>\n",
       "      <th>LAT</th>\n",
       "      <th>LON</th>\n",
       "      <th>STU_ST</th>\n",
       "      <th>STU_IQ</th>\n",
       "      <th>STU_BF</th>\n",
       "      <th>STU_SK</th>\n",
       "      <th>STU_LK</th>\n",
       "      <th>DEC_DT</th>\n",
       "      <th>DATE</th>\n",
       "      <th>LIN_TM</th>\n",
       "      <th>SEA_TM</th>\n",
       "    </tr>\n",
       "  </thead>\n",
       "  <tbody>\n",
       "    <tr>\n",
       "      <th>0</th>\n",
       "      <td>GQCPF</td>\n",
       "      <td>70006</td>\n",
       "      <td>-2.032357</td>\n",
       "      <td>-0.588792</td>\n",
       "      <td>30.013</td>\n",
       "      <td>-90.191</td>\n",
       "      <td>3.0</td>\n",
       "      <td>94.0</td>\n",
       "      <td>0</td>\n",
       "      <td>74</td>\n",
       "      <td>43</td>\n",
       "      <td>17.693</td>\n",
       "      <td>2017-09-10</td>\n",
       "      <td>1.693</td>\n",
       "      <td>-0.967001</td>\n",
       "    </tr>\n",
       "    <tr>\n",
       "      <th>1</th>\n",
       "      <td>NBXEV</td>\n",
       "      <td>71263</td>\n",
       "      <td>-0.057403</td>\n",
       "      <td>-0.325514</td>\n",
       "      <td>32.873</td>\n",
       "      <td>-91.426</td>\n",
       "      <td>13.0</td>\n",
       "      <td>87.0</td>\n",
       "      <td>0</td>\n",
       "      <td>20</td>\n",
       "      <td>17</td>\n",
       "      <td>16.241</td>\n",
       "      <td>2016-03-29</td>\n",
       "      <td>0.241</td>\n",
       "      <td>0.999033</td>\n",
       "    </tr>\n",
       "    <tr>\n",
       "      <th>2</th>\n",
       "      <td>EARNY</td>\n",
       "      <td>48223</td>\n",
       "      <td>-0.007884</td>\n",
       "      <td>-0.239362</td>\n",
       "      <td>42.393</td>\n",
       "      <td>-83.246</td>\n",
       "      <td>28.0</td>\n",
       "      <td>116.0</td>\n",
       "      <td>1</td>\n",
       "      <td>11</td>\n",
       "      <td>97</td>\n",
       "      <td>16.841</td>\n",
       "      <td>2016-11-03</td>\n",
       "      <td>0.841</td>\n",
       "      <td>-0.782391</td>\n",
       "    </tr>\n",
       "    <tr>\n",
       "      <th>3</th>\n",
       "      <td>LXPHO</td>\n",
       "      <td>80524</td>\n",
       "      <td>-0.721136</td>\n",
       "      <td>1.048933</td>\n",
       "      <td>40.648</td>\n",
       "      <td>-105.029</td>\n",
       "      <td>25.0</td>\n",
       "      <td>104.0</td>\n",
       "      <td>1</td>\n",
       "      <td>55</td>\n",
       "      <td>16</td>\n",
       "      <td>16.144</td>\n",
       "      <td>2016-02-22</td>\n",
       "      <td>0.144</td>\n",
       "      <td>0.844328</td>\n",
       "    </tr>\n",
       "    <tr>\n",
       "      <th>4</th>\n",
       "      <td>KGRBJ</td>\n",
       "      <td>70726</td>\n",
       "      <td>0.083929</td>\n",
       "      <td>-0.516077</td>\n",
       "      <td>30.433</td>\n",
       "      <td>-90.902</td>\n",
       "      <td>0.0</td>\n",
       "      <td>118.0</td>\n",
       "      <td>1</td>\n",
       "      <td>78</td>\n",
       "      <td>24</td>\n",
       "      <td>17.974</td>\n",
       "      <td>2017-12-22</td>\n",
       "      <td>1.974</td>\n",
       "      <td>-0.062791</td>\n",
       "    </tr>\n",
       "  </tbody>\n",
       "</table>\n",
       "</div>"
      ],
      "text/plain": [
       "  STU_ID    ZIP    ZIP_RE     NW_RE     LAT      LON  STU_ST  STU_IQ  STU_BF  \\\n",
       "0  GQCPF  70006 -2.032357 -0.588792  30.013  -90.191     3.0    94.0       0   \n",
       "1  NBXEV  71263 -0.057403 -0.325514  32.873  -91.426    13.0    87.0       0   \n",
       "2  EARNY  48223 -0.007884 -0.239362  42.393  -83.246    28.0   116.0       1   \n",
       "3  LXPHO  80524 -0.721136  1.048933  40.648 -105.029    25.0   104.0       1   \n",
       "4  KGRBJ  70726  0.083929 -0.516077  30.433  -90.902     0.0   118.0       1   \n",
       "\n",
       "   STU_SK  STU_LK  DEC_DT        DATE  LIN_TM    SEA_TM  \n",
       "0      74      43  17.693  2017-09-10   1.693 -0.967001  \n",
       "1      20      17  16.241  2016-03-29   0.241  0.999033  \n",
       "2      11      97  16.841  2016-11-03   0.841 -0.782391  \n",
       "3      55      16  16.144  2016-02-22   0.144  0.844328  \n",
       "4      78      24  17.974  2017-12-22   1.974 -0.062791  "
      ]
     },
     "execution_count": 21,
     "metadata": {},
     "output_type": "execute_result"
    }
   ],
   "source": [
    "TS.head(5)  "
   ]
  },
  {
   "cell_type": "code",
   "execution_count": 22,
   "metadata": {
    "collapsed": true
   },
   "outputs": [],
   "source": [
    "##############################################################\n",
    "##############################################################"
   ]
  },
  {
   "cell_type": "code",
   "execution_count": 23,
   "metadata": {
    "collapsed": true
   },
   "outputs": [],
   "source": [
    "# Generate the \"Magic Cereal\" Variable:\n",
    "MinNW,MaxNW = TS['NW_RE'].min(),TS['NW_RE'].max() \n",
    "DifNW = MaxNW-MinNW  # Diference of NW maximums \n",
    "ZCP = np.array([(a-MinNW)/DifNW for a in TS['NW_RE']])  # Zipcode Propensity\n",
    "MaxLT = TS['LIN_TM'].max()  # Max Linear Time \n",
    "LTP  = np.array([(t/MaxLT) for t in TS['LIN_TM']])      # Linear Time Propensity\n",
    "BFP = TS['STU_BF']                                      # Breakfast Propensity\n",
    "TRP = np.array([uniform(0.01,0.99) for _ in IRange])    # Treatment Random Propensity                 \n",
    "MCP = ((TRP*.7)+(BFP*.3))*(ZCP**1.5)*(LTP**1.5)         # Magic Cereal Propensity   "
   ]
  },
  {
   "cell_type": "code",
   "execution_count": 24,
   "metadata": {
    "collapsed": true
   },
   "outputs": [],
   "source": [
    "TS['MCP'] = MCP \n",
    "thresh = np.percentile(TS['MCP'],100.0*(1.0-Treatmt)) \n",
    "TS['MCT'] = [int(bool(a>thresh)) for a in TS['MCP']]    # Magic Cereal Treatment  "
   ]
  },
  {
   "cell_type": "code",
   "execution_count": 25,
   "metadata": {
    "collapsed": false
   },
   "outputs": [
    {
     "name": "stdout",
     "output_type": "stream",
     "text": [
      "Treatment Portion:\n",
      "0.1900010945\n"
     ]
    }
   ],
   "source": [
    "print 'Treatment Portion:'\n",
    "print round(TS['MCT'].mean(),10)"
   ]
  },
  {
   "cell_type": "code",
   "execution_count": 26,
   "metadata": {
    "collapsed": true
   },
   "outputs": [],
   "source": [
    "##############################################################\n",
    "##############################################################"
   ]
  },
  {
   "cell_type": "code",
   "execution_count": 27,
   "metadata": {
    "collapsed": true
   },
   "outputs": [],
   "source": [
    "Notes = '''\n",
    "\n",
    "Factors Affecting Test Performance:\n",
    "\n",
    "# STUDENT EFFECTS:\n",
    "TS['STU_ST'] # Student Study Time\n",
    "TS['STU_IQ'] # Student IQ Score \n",
    "TS['STU_BF'] # Student Eats Breakfast \n",
    "TS['STU_SK'] # Student Skill at testing\n",
    "TS['STU_LK'] # Student Luck on test day\n",
    "\n",
    "# ZIP CODE EFFECTS: \n",
    "TS['ZIP_RE'] # ZipCode Random Effect\n",
    "TS['NW_RE']  # NorthWest Random Effect \n",
    "\n",
    "# TIME EFFECTS:\n",
    "TS['LIN_TM'] # Linear Time\n",
    "TS['SEA_TM'] # Season Time  \n",
    "\n",
    "# CEREAL EFFECTS:\n",
    "TS['MCT'] # Magic Cereal Treatment \n",
    "\n",
    "''' "
   ]
  },
  {
   "cell_type": "code",
   "execution_count": 28,
   "metadata": {
    "collapsed": false
   },
   "outputs": [],
   "source": [
    "# FINALLY, CALCULATE THE TEST PERFORMANCE (TP):\n",
    "\n",
    "# Initialize all test scores to 100.0:\n",
    "TS['SCORE'] = np.array([100.0 for _ in IRange])  \n",
    "\n",
    "# Factor-In Student Variables:\n",
    "TS['SCORE'] = TS['SCORE'] + (ConvertToZ(TS['STU_ST']) *  7.1)   \n",
    "TS['SCORE'] = TS['SCORE'] + (ConvertToZ(TS['STU_IQ']) *  7.5)  \n",
    "TS['SCORE'] = TS['SCORE'] + (ConvertToZ(TS['STU_SK']) *  4.1)  \n",
    "TS['SCORE'] = TS['SCORE'] + (ConvertToZ(TS['STU_LK']) *  5.8)  \n",
    "TS['SCORE'] = TS['SCORE'] + (    DeMean(TS['STU_BF']) *  6.9)  \n",
    "\n",
    "# Factor-in Location Effects:\n",
    "TS['SCORE'] = TS['SCORE'] + (ConvertToZ(TS['ZIP_RE']) *  6.2)\n",
    "TS['SCORE'] = TS['SCORE'] + (ConvertToZ(TS['NW_RE' ]) * 10.7) \n",
    "\n",
    "# Factor-in Time Effects: \n",
    "TS['SCORE'] = TS['SCORE'] + (    DeMean(TS['LIN_TM']) * -4.8)  \n",
    "TS['SCORE'] = TS['SCORE'] + (    DeMean(TS['SEA_TM']) *  3.2)  \n",
    "\n",
    "# Factor-in the Magic Cereal Treatment Effect:   \n",
    "TS['SCORE'] = TS['SCORE'] + (    DeMean(TS['MCT'])    * -3.14159)  \n",
    "TS['SCORE'] = [round(a,1) for a in TS['SCORE']] "
   ]
  },
  {
   "cell_type": "code",
   "execution_count": 29,
   "metadata": {
    "collapsed": false
   },
   "outputs": [
    {
     "data": {
      "text/plain": [
       "count    237546.000000\n",
       "mean         99.999965\n",
       "std          18.152821\n",
       "min          32.300000\n",
       "25%          87.300000\n",
       "50%          99.300000\n",
       "75%         112.100000\n",
       "max         187.300000\n",
       "Name: SCORE, dtype: float64"
      ]
     },
     "execution_count": 29,
     "metadata": {},
     "output_type": "execute_result"
    }
   ],
   "source": [
    "# We can look at the final distribution of 'SCORE' values:  \n",
    "TS['SCORE'].describe()"
   ]
  },
  {
   "cell_type": "code",
   "execution_count": 30,
   "metadata": {
    "collapsed": true
   },
   "outputs": [],
   "source": [
    "##############################################################\n",
    "##############################################################"
   ]
  },
  {
   "cell_type": "code",
   "execution_count": 31,
   "metadata": {
    "collapsed": false
   },
   "outputs": [
    {
     "data": {
      "text/html": [
       "<div>\n",
       "<table border=\"1\" class=\"dataframe\">\n",
       "  <thead>\n",
       "    <tr style=\"text-align: right;\">\n",
       "      <th></th>\n",
       "      <th>0</th>\n",
       "      <th>1</th>\n",
       "      <th>2</th>\n",
       "      <th>3</th>\n",
       "      <th>4</th>\n",
       "    </tr>\n",
       "  </thead>\n",
       "  <tbody>\n",
       "    <tr>\n",
       "      <th>STU_ID</th>\n",
       "      <td>GQCPF</td>\n",
       "      <td>NBXEV</td>\n",
       "      <td>EARNY</td>\n",
       "      <td>LXPHO</td>\n",
       "      <td>KGRBJ</td>\n",
       "    </tr>\n",
       "    <tr>\n",
       "      <th>ZIP</th>\n",
       "      <td>70006</td>\n",
       "      <td>71263</td>\n",
       "      <td>48223</td>\n",
       "      <td>80524</td>\n",
       "      <td>70726</td>\n",
       "    </tr>\n",
       "    <tr>\n",
       "      <th>ZIP_RE</th>\n",
       "      <td>-2.03236</td>\n",
       "      <td>-0.057403</td>\n",
       "      <td>-0.00788356</td>\n",
       "      <td>-0.721136</td>\n",
       "      <td>0.0839285</td>\n",
       "    </tr>\n",
       "    <tr>\n",
       "      <th>NW_RE</th>\n",
       "      <td>-0.588792</td>\n",
       "      <td>-0.325514</td>\n",
       "      <td>-0.239362</td>\n",
       "      <td>1.04893</td>\n",
       "      <td>-0.516077</td>\n",
       "    </tr>\n",
       "    <tr>\n",
       "      <th>LAT</th>\n",
       "      <td>30.013</td>\n",
       "      <td>32.873</td>\n",
       "      <td>42.393</td>\n",
       "      <td>40.648</td>\n",
       "      <td>30.433</td>\n",
       "    </tr>\n",
       "    <tr>\n",
       "      <th>LON</th>\n",
       "      <td>-90.191</td>\n",
       "      <td>-91.426</td>\n",
       "      <td>-83.246</td>\n",
       "      <td>-105.029</td>\n",
       "      <td>-90.902</td>\n",
       "    </tr>\n",
       "    <tr>\n",
       "      <th>STU_ST</th>\n",
       "      <td>3</td>\n",
       "      <td>13</td>\n",
       "      <td>28</td>\n",
       "      <td>25</td>\n",
       "      <td>0</td>\n",
       "    </tr>\n",
       "    <tr>\n",
       "      <th>STU_IQ</th>\n",
       "      <td>94</td>\n",
       "      <td>87</td>\n",
       "      <td>116</td>\n",
       "      <td>104</td>\n",
       "      <td>118</td>\n",
       "    </tr>\n",
       "    <tr>\n",
       "      <th>STU_BF</th>\n",
       "      <td>0</td>\n",
       "      <td>0</td>\n",
       "      <td>1</td>\n",
       "      <td>1</td>\n",
       "      <td>1</td>\n",
       "    </tr>\n",
       "    <tr>\n",
       "      <th>STU_SK</th>\n",
       "      <td>74</td>\n",
       "      <td>20</td>\n",
       "      <td>11</td>\n",
       "      <td>55</td>\n",
       "      <td>78</td>\n",
       "    </tr>\n",
       "    <tr>\n",
       "      <th>STU_LK</th>\n",
       "      <td>43</td>\n",
       "      <td>17</td>\n",
       "      <td>97</td>\n",
       "      <td>16</td>\n",
       "      <td>24</td>\n",
       "    </tr>\n",
       "    <tr>\n",
       "      <th>DEC_DT</th>\n",
       "      <td>17.693</td>\n",
       "      <td>16.241</td>\n",
       "      <td>16.841</td>\n",
       "      <td>16.144</td>\n",
       "      <td>17.974</td>\n",
       "    </tr>\n",
       "    <tr>\n",
       "      <th>DATE</th>\n",
       "      <td>2017-09-10</td>\n",
       "      <td>2016-03-29</td>\n",
       "      <td>2016-11-03</td>\n",
       "      <td>2016-02-22</td>\n",
       "      <td>2017-12-22</td>\n",
       "    </tr>\n",
       "    <tr>\n",
       "      <th>LIN_TM</th>\n",
       "      <td>1.693</td>\n",
       "      <td>0.241</td>\n",
       "      <td>0.841</td>\n",
       "      <td>0.144</td>\n",
       "      <td>1.974</td>\n",
       "    </tr>\n",
       "    <tr>\n",
       "      <th>SEA_TM</th>\n",
       "      <td>-0.967001</td>\n",
       "      <td>0.999033</td>\n",
       "      <td>-0.782391</td>\n",
       "      <td>0.844328</td>\n",
       "      <td>-0.0627905</td>\n",
       "    </tr>\n",
       "    <tr>\n",
       "      <th>MCP</th>\n",
       "      <td>0.0323375</td>\n",
       "      <td>0.000584718</td>\n",
       "      <td>0.0430309</td>\n",
       "      <td>0.00818893</td>\n",
       "      <td>0.108232</td>\n",
       "    </tr>\n",
       "    <tr>\n",
       "      <th>MCT</th>\n",
       "      <td>0</td>\n",
       "      <td>0</td>\n",
       "      <td>0</td>\n",
       "      <td>0</td>\n",
       "      <td>1</td>\n",
       "    </tr>\n",
       "    <tr>\n",
       "      <th>SCORE</th>\n",
       "      <td>59.4</td>\n",
       "      <td>75.2</td>\n",
       "      <td>110.4</td>\n",
       "      <td>110.3</td>\n",
       "      <td>86.2</td>\n",
       "    </tr>\n",
       "  </tbody>\n",
       "</table>\n",
       "</div>"
      ],
      "text/plain": [
       "                 0            1           2           3           4\n",
       "STU_ID       GQCPF        NBXEV       EARNY       LXPHO       KGRBJ\n",
       "ZIP          70006        71263       48223       80524       70726\n",
       "ZIP_RE    -2.03236    -0.057403 -0.00788356   -0.721136   0.0839285\n",
       "NW_RE    -0.588792    -0.325514   -0.239362     1.04893   -0.516077\n",
       "LAT         30.013       32.873      42.393      40.648      30.433\n",
       "LON        -90.191      -91.426     -83.246    -105.029     -90.902\n",
       "STU_ST           3           13          28          25           0\n",
       "STU_IQ          94           87         116         104         118\n",
       "STU_BF           0            0           1           1           1\n",
       "STU_SK          74           20          11          55          78\n",
       "STU_LK          43           17          97          16          24\n",
       "DEC_DT      17.693       16.241      16.841      16.144      17.974\n",
       "DATE    2017-09-10   2016-03-29  2016-11-03  2016-02-22  2017-12-22\n",
       "LIN_TM       1.693        0.241       0.841       0.144       1.974\n",
       "SEA_TM   -0.967001     0.999033   -0.782391    0.844328  -0.0627905\n",
       "MCP      0.0323375  0.000584718   0.0430309  0.00818893    0.108232\n",
       "MCT              0            0           0           0           1\n",
       "SCORE         59.4         75.2       110.4       110.3        86.2"
      ]
     },
     "execution_count": 31,
     "metadata": {},
     "output_type": "execute_result"
    }
   ],
   "source": [
    "TS.head().T "
   ]
  },
  {
   "cell_type": "code",
   "execution_count": 32,
   "metadata": {
    "collapsed": true
   },
   "outputs": [],
   "source": [
    "CleanCols = ['DATE','SCORE','STU_ID','MCT','STU_IQ','STU_ST','STU_BF','ZIP']    \n",
    "TS2 = deepcopy(TS) \n",
    "TS2 = TS2[CleanCols] "
   ]
  },
  {
   "cell_type": "code",
   "execution_count": 33,
   "metadata": {
    "collapsed": true
   },
   "outputs": [],
   "source": [
    "fn = 'DATA/TestData.csv'\n",
    "TS2.to_csv(fn,index=False) "
   ]
  },
  {
   "cell_type": "code",
   "execution_count": 34,
   "metadata": {
    "collapsed": true
   },
   "outputs": [],
   "source": [
    "##############################################################\n",
    "##############################################################"
   ]
  },
  {
   "cell_type": "code",
   "execution_count": 35,
   "metadata": {
    "collapsed": true
   },
   "outputs": [],
   "source": [
    "# [END] "
   ]
  },
  {
   "cell_type": "code",
   "execution_count": null,
   "metadata": {
    "collapsed": true
   },
   "outputs": [],
   "source": []
  },
  {
   "cell_type": "code",
   "execution_count": null,
   "metadata": {
    "collapsed": true
   },
   "outputs": [],
   "source": []
  }
 ],
 "metadata": {
  "kernelspec": {
   "display_name": "Python [default]",
   "language": "python",
   "name": "python2"
  },
  "language_info": {
   "codemirror_mode": {
    "name": "ipython",
    "version": 2
   },
   "file_extension": ".py",
   "mimetype": "text/x-python",
   "name": "python",
   "nbconvert_exporter": "python",
   "pygments_lexer": "ipython2",
   "version": "2.7.12"
  }
 },
 "nbformat": 4,
 "nbformat_minor": 1
}
