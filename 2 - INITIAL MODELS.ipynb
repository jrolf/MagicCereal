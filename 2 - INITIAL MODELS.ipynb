{
 "cells": [
  {
   "cell_type": "code",
   "execution_count": 1,
   "metadata": {
    "collapsed": true
   },
   "outputs": [],
   "source": [
    "import pandas as pd\n",
    "import numpy as np\n",
    "import statsmodels.api as sm\n",
    "import statsmodels.formula.api as smf\n",
    "from sklearn.linear_model import LinearRegression as OLS\n",
    "import datetime,math\n",
    "from random import *\n",
    "from copy import *\n",
    "seed(123)"
   ]
  },
  {
   "cell_type": "code",
   "execution_count": 2,
   "metadata": {
    "collapsed": true
   },
   "outputs": [],
   "source": [
    "import seaborn as sns\n",
    "import matplotlib.pyplot as plt\n",
    "%matplotlib inline"
   ]
  },
  {
   "cell_type": "code",
   "execution_count": 3,
   "metadata": {
    "collapsed": true
   },
   "outputs": [],
   "source": [
    "##############################################################\n",
    "##############################################################"
   ]
  },
  {
   "cell_type": "code",
   "execution_count": 4,
   "metadata": {
    "collapsed": true
   },
   "outputs": [],
   "source": [
    "def AddConstant(data_frame):\n",
    "    data_frame = deepcopy(data_frame) \n",
    "    data_frame['const'] = np.ones(len(data_frame))\n",
    "    cols = [data_frame.columns[-1]]+list(data_frame.columns[:-1])\n",
    "    return pd.DataFrame(data_frame[cols]) "
   ]
  },
  {
   "cell_type": "code",
   "execution_count": 5,
   "metadata": {
    "collapsed": true
   },
   "outputs": [],
   "source": [
    "##############################################################\n",
    "##############################################################"
   ]
  },
  {
   "cell_type": "code",
   "execution_count": 6,
   "metadata": {
    "collapsed": false
   },
   "outputs": [],
   "source": [
    "fn = 'DATA/TestData.csv'\n",
    "df = pd.read_csv(fn) "
   ]
  },
  {
   "cell_type": "code",
   "execution_count": 7,
   "metadata": {
    "collapsed": false
   },
   "outputs": [
    {
     "data": {
      "text/html": [
       "<div>\n",
       "<table border=\"1\" class=\"dataframe\">\n",
       "  <thead>\n",
       "    <tr style=\"text-align: right;\">\n",
       "      <th></th>\n",
       "      <th>DATE</th>\n",
       "      <th>SCORE</th>\n",
       "      <th>STU_ID</th>\n",
       "      <th>MCT</th>\n",
       "      <th>STU_IQ</th>\n",
       "      <th>STU_ST</th>\n",
       "      <th>STU_BF</th>\n",
       "      <th>ZIP</th>\n",
       "    </tr>\n",
       "  </thead>\n",
       "  <tbody>\n",
       "    <tr>\n",
       "      <th>0</th>\n",
       "      <td>2017-09-10</td>\n",
       "      <td>59.4</td>\n",
       "      <td>GQCPF</td>\n",
       "      <td>0</td>\n",
       "      <td>94.0</td>\n",
       "      <td>3.0</td>\n",
       "      <td>0</td>\n",
       "      <td>70006</td>\n",
       "    </tr>\n",
       "    <tr>\n",
       "      <th>1</th>\n",
       "      <td>2016-03-29</td>\n",
       "      <td>75.2</td>\n",
       "      <td>NBXEV</td>\n",
       "      <td>0</td>\n",
       "      <td>87.0</td>\n",
       "      <td>13.0</td>\n",
       "      <td>0</td>\n",
       "      <td>71263</td>\n",
       "    </tr>\n",
       "    <tr>\n",
       "      <th>2</th>\n",
       "      <td>2016-11-03</td>\n",
       "      <td>110.4</td>\n",
       "      <td>EARNY</td>\n",
       "      <td>0</td>\n",
       "      <td>116.0</td>\n",
       "      <td>28.0</td>\n",
       "      <td>1</td>\n",
       "      <td>48223</td>\n",
       "    </tr>\n",
       "    <tr>\n",
       "      <th>3</th>\n",
       "      <td>2016-02-22</td>\n",
       "      <td>110.3</td>\n",
       "      <td>LXPHO</td>\n",
       "      <td>0</td>\n",
       "      <td>104.0</td>\n",
       "      <td>25.0</td>\n",
       "      <td>1</td>\n",
       "      <td>80524</td>\n",
       "    </tr>\n",
       "    <tr>\n",
       "      <th>4</th>\n",
       "      <td>2017-12-22</td>\n",
       "      <td>86.2</td>\n",
       "      <td>KGRBJ</td>\n",
       "      <td>1</td>\n",
       "      <td>118.0</td>\n",
       "      <td>0.0</td>\n",
       "      <td>1</td>\n",
       "      <td>70726</td>\n",
       "    </tr>\n",
       "  </tbody>\n",
       "</table>\n",
       "</div>"
      ],
      "text/plain": [
       "         DATE  SCORE STU_ID  MCT  STU_IQ  STU_ST  STU_BF    ZIP\n",
       "0  2017-09-10   59.4  GQCPF    0    94.0     3.0       0  70006\n",
       "1  2016-03-29   75.2  NBXEV    0    87.0    13.0       0  71263\n",
       "2  2016-11-03  110.4  EARNY    0   116.0    28.0       1  48223\n",
       "3  2016-02-22  110.3  LXPHO    0   104.0    25.0       1  80524\n",
       "4  2017-12-22   86.2  KGRBJ    1   118.0     0.0       1  70726"
      ]
     },
     "execution_count": 7,
     "metadata": {},
     "output_type": "execute_result"
    }
   ],
   "source": [
    "df.head()"
   ]
  },
  {
   "cell_type": "code",
   "execution_count": 8,
   "metadata": {
    "collapsed": false
   },
   "outputs": [],
   "source": [
    "YVar  = 'SCORE' \n",
    "XVars = ['STU_IQ','STU_ST','STU_BF','MCT']\n",
    "\n",
    "y = df[YVar]\n",
    "X = df[XVars]\n",
    "X = AddConstant(X) \n",
    "\n",
    "model = sm.OLS(y,X)\n",
    "result = model.fit() "
   ]
  },
  {
   "cell_type": "code",
   "execution_count": 9,
   "metadata": {
    "collapsed": false
   },
   "outputs": [
    {
     "data": {
      "text/html": [
       "<table class=\"simpletable\">\n",
       "<tr>\n",
       "        <td>Model:</td>               <td>OLS</td>         <td>Adj. R-squared:</td>       <td>0.387</td>   \n",
       "</tr>\n",
       "<tr>\n",
       "  <td>Dependent Variable:</td>       <td>SCORE</td>             <td>AIC:</td>         <td>1935078.0107</td>\n",
       "</tr>\n",
       "<tr>\n",
       "         <td>Date:</td>        <td>2018-10-16 14:42</td>        <td>BIC:</td>         <td>1935129.9013</td>\n",
       "</tr>\n",
       "<tr>\n",
       "   <td>No. Observations:</td>       <td>237546</td>        <td>Log-Likelihood:</td>    <td>-9.6753e+05</td>\n",
       "</tr>\n",
       "<tr>\n",
       "       <td>Df Model:</td>              <td>4</td>           <td>F-statistic:</td>       <td>3.750e+04</td> \n",
       "</tr>\n",
       "<tr>\n",
       "     <td>Df Residuals:</td>         <td>237541</td>      <td>Prob (F-statistic):</td>     <td>0.00</td>    \n",
       "</tr>\n",
       "<tr>\n",
       "      <td>R-squared:</td>            <td>0.387</td>            <td>Scale:</td>           <td>201.99</td>   \n",
       "</tr>\n",
       "</table>\n",
       "<table class=\"simpletable\">\n",
       "<tr>\n",
       "     <td></td>     <th>Coef.</th>  <th>Std.Err.</th>     <th>t</th>     <th>P>|t|</th> <th>[0.025</th>  <th>0.975]</th> \n",
       "</tr>\n",
       "<tr>\n",
       "  <th>const</th>  <td>32.9525</td>  <td>0.2143</td>  <td>153.7886</td> <td>0.0000</td> <td>32.5325</td> <td>33.3725</td>\n",
       "</tr>\n",
       "<tr>\n",
       "  <th>STU_IQ</th> <td>0.5067</td>   <td>0.0020</td>  <td>258.6366</td> <td>0.0000</td> <td>0.5028</td>  <td>0.5105</td> \n",
       "</tr>\n",
       "<tr>\n",
       "  <th>STU_ST</th> <td>0.4104</td>   <td>0.0017</td>  <td>244.0652</td> <td>0.0000</td> <td>0.4071</td>  <td>0.4137</td> \n",
       "</tr>\n",
       "<tr>\n",
       "  <th>STU_BF</th> <td>5.6708</td>   <td>0.0602</td>   <td>94.1769</td> <td>0.0000</td> <td>5.5528</td>  <td>5.7888</td> \n",
       "</tr>\n",
       "<tr>\n",
       "  <th>MCT</th>    <td>7.8755</td>   <td>0.0752</td>  <td>104.7586</td> <td>0.0000</td> <td>7.7282</td>  <td>8.0229</td> \n",
       "</tr>\n",
       "</table>\n",
       "<table class=\"simpletable\">\n",
       "<tr>\n",
       "     <td>Omnibus:</td>    <td>4026.020</td>  <td>Durbin-Watson:</td>     <td>2.001</td> \n",
       "</tr>\n",
       "<tr>\n",
       "  <td>Prob(Omnibus):</td>   <td>0.000</td>  <td>Jarque-Bera (JB):</td> <td>4233.094</td>\n",
       "</tr>\n",
       "<tr>\n",
       "       <td>Skew:</td>       <td>0.325</td>      <td>Prob(JB):</td>       <td>0.000</td> \n",
       "</tr>\n",
       "<tr>\n",
       "     <td>Kurtosis:</td>     <td>3.077</td>   <td>Condition No.:</td>      <td>797</td>  \n",
       "</tr>\n",
       "</table>"
      ],
      "text/plain": [
       "<class 'statsmodels.iolib.summary2.Summary'>\n",
       "\"\"\"\n",
       "                   Results: Ordinary least squares\n",
       "=====================================================================\n",
       "Model:              OLS              Adj. R-squared:     0.387       \n",
       "Dependent Variable: SCORE            AIC:                1935078.0107\n",
       "Date:               2018-10-16 14:42 BIC:                1935129.9013\n",
       "No. Observations:   237546           Log-Likelihood:     -9.6753e+05 \n",
       "Df Model:           4                F-statistic:        3.750e+04   \n",
       "Df Residuals:       237541           Prob (F-statistic): 0.00        \n",
       "R-squared:          0.387            Scale:              201.99      \n",
       "-----------------------------------------------------------------------\n",
       "              Coef.    Std.Err.      t       P>|t|     [0.025    0.975]\n",
       "-----------------------------------------------------------------------\n",
       "const        32.9525     0.2143   153.7886   0.0000   32.5325   33.3725\n",
       "STU_IQ        0.5067     0.0020   258.6366   0.0000    0.5028    0.5105\n",
       "STU_ST        0.4104     0.0017   244.0652   0.0000    0.4071    0.4137\n",
       "STU_BF        5.6708     0.0602    94.1769   0.0000    5.5528    5.7888\n",
       "MCT           7.8755     0.0752   104.7586   0.0000    7.7282    8.0229\n",
       "---------------------------------------------------------------------\n",
       "Omnibus:              4026.020       Durbin-Watson:          2.001   \n",
       "Prob(Omnibus):        0.000          Jarque-Bera (JB):       4233.094\n",
       "Skew:                 0.325          Prob(JB):               0.000   \n",
       "Kurtosis:             3.077          Condition No.:          797     \n",
       "=====================================================================\n",
       "\n",
       "\"\"\""
      ]
     },
     "execution_count": 9,
     "metadata": {},
     "output_type": "execute_result"
    }
   ],
   "source": [
    "result.summary2()"
   ]
  },
  {
   "cell_type": "code",
   "execution_count": 10,
   "metadata": {
    "collapsed": false
   },
   "outputs": [
    {
     "name": "stdout",
     "output_type": "stream",
     "text": [
      "Predicted MCT Effect on Test Score: 7.876 Points. :) Yayy!\n"
     ]
    }
   ],
   "source": [
    "Effect1 = result.params['MCT']\n",
    "print 'Predicted MCT Effect on Test Score:',round(Effect1,3),'Points. :) Yayy!'"
   ]
  },
  {
   "cell_type": "code",
   "execution_count": 11,
   "metadata": {
    "collapsed": true
   },
   "outputs": [],
   "source": [
    "##############################################################\n",
    "############################################################## "
   ]
  },
  {
   "cell_type": "code",
   "execution_count": 12,
   "metadata": {
    "collapsed": true
   },
   "outputs": [],
   "source": [
    "# The bucketing strategy: "
   ]
  },
  {
   "cell_type": "code",
   "execution_count": 13,
   "metadata": {
    "collapsed": true
   },
   "outputs": [],
   "source": [
    "G = df.groupby(['ZIP'])"
   ]
  },
  {
   "cell_type": "code",
   "execution_count": 14,
   "metadata": {
    "collapsed": true
   },
   "outputs": [],
   "source": [
    "IDs = list(G.sum().index)\n",
    "mct_counts = np.array(G.sum()['MCT'])\n",
    "tot_counts = np.array(G.count()['MCT']) \n",
    "non_counts = tot_counts-mct_counts\n",
    "\n",
    "CountsDF = pd.DataFrame()\n",
    "CountsDF['ID'] = IDs\n",
    "CountsDF['TOT'] = tot_counts\n",
    "CountsDF['NON'] = non_counts\n",
    "CountsDF['MCT'] = mct_counts \n",
    "CountsDF['RAT'] = CountsDF['MCT']/CountsDF['TOT']\n",
    "CountsDF['GEO'] = [round(a) for a in (non_counts*mct_counts)**0.5] \n",
    "CountsDF = CountsDF.sort_values('GEO',ascending=False)\n",
    "CountsDF.index = list(range(len(CountsDF)))"
   ]
  },
  {
   "cell_type": "code",
   "execution_count": 15,
   "metadata": {
    "collapsed": false
   },
   "outputs": [
    {
     "data": {
      "text/html": [
       "<div>\n",
       "<table border=\"1\" class=\"dataframe\">\n",
       "  <thead>\n",
       "    <tr style=\"text-align: right;\">\n",
       "      <th></th>\n",
       "      <th>ID</th>\n",
       "      <th>TOT</th>\n",
       "      <th>NON</th>\n",
       "      <th>MCT</th>\n",
       "      <th>RAT</th>\n",
       "      <th>GEO</th>\n",
       "    </tr>\n",
       "  </thead>\n",
       "  <tbody>\n",
       "    <tr>\n",
       "      <th>0</th>\n",
       "      <td>90201</td>\n",
       "      <td>232</td>\n",
       "      <td>109</td>\n",
       "      <td>123</td>\n",
       "      <td>0.530172</td>\n",
       "      <td>116.0</td>\n",
       "    </tr>\n",
       "    <tr>\n",
       "      <th>1</th>\n",
       "      <td>92054</td>\n",
       "      <td>227</td>\n",
       "      <td>105</td>\n",
       "      <td>122</td>\n",
       "      <td>0.537445</td>\n",
       "      <td>113.0</td>\n",
       "    </tr>\n",
       "    <tr>\n",
       "      <th>2</th>\n",
       "      <td>92704</td>\n",
       "      <td>214</td>\n",
       "      <td>111</td>\n",
       "      <td>103</td>\n",
       "      <td>0.481308</td>\n",
       "      <td>107.0</td>\n",
       "    </tr>\n",
       "    <tr>\n",
       "      <th>3</th>\n",
       "      <td>90280</td>\n",
       "      <td>210</td>\n",
       "      <td>106</td>\n",
       "      <td>104</td>\n",
       "      <td>0.495238</td>\n",
       "      <td>105.0</td>\n",
       "    </tr>\n",
       "    <tr>\n",
       "      <th>4</th>\n",
       "      <td>90805</td>\n",
       "      <td>204</td>\n",
       "      <td>102</td>\n",
       "      <td>102</td>\n",
       "      <td>0.500000</td>\n",
       "      <td>102.0</td>\n",
       "    </tr>\n",
       "  </tbody>\n",
       "</table>\n",
       "</div>"
      ],
      "text/plain": [
       "      ID  TOT  NON  MCT       RAT    GEO\n",
       "0  90201  232  109  123  0.530172  116.0\n",
       "1  92054  227  105  122  0.537445  113.0\n",
       "2  92704  214  111  103  0.481308  107.0\n",
       "3  90280  210  106  104  0.495238  105.0\n",
       "4  90805  204  102  102  0.500000  102.0"
      ]
     },
     "execution_count": 15,
     "metadata": {},
     "output_type": "execute_result"
    }
   ],
   "source": [
    "CountsDF.head()"
   ]
  },
  {
   "cell_type": "code",
   "execution_count": 16,
   "metadata": {
    "collapsed": false
   },
   "outputs": [
    {
     "data": {
      "text/html": [
       "<div>\n",
       "<table border=\"1\" class=\"dataframe\">\n",
       "  <thead>\n",
       "    <tr style=\"text-align: right;\">\n",
       "      <th></th>\n",
       "      <th>ID</th>\n",
       "      <th>TOT</th>\n",
       "      <th>NON</th>\n",
       "      <th>MCT</th>\n",
       "      <th>RAT</th>\n",
       "      <th>GEO</th>\n",
       "    </tr>\n",
       "  </thead>\n",
       "  <tbody>\n",
       "    <tr>\n",
       "      <th>4721</th>\n",
       "      <td>31308</td>\n",
       "      <td>16</td>\n",
       "      <td>16</td>\n",
       "      <td>0</td>\n",
       "      <td>0.0</td>\n",
       "      <td>0.0</td>\n",
       "    </tr>\n",
       "    <tr>\n",
       "      <th>4722</th>\n",
       "      <td>31312</td>\n",
       "      <td>28</td>\n",
       "      <td>28</td>\n",
       "      <td>0</td>\n",
       "      <td>0.0</td>\n",
       "      <td>0.0</td>\n",
       "    </tr>\n",
       "    <tr>\n",
       "      <th>4723</th>\n",
       "      <td>31313</td>\n",
       "      <td>75</td>\n",
       "      <td>75</td>\n",
       "      <td>0</td>\n",
       "      <td>0.0</td>\n",
       "      <td>0.0</td>\n",
       "    </tr>\n",
       "    <tr>\n",
       "      <th>4724</th>\n",
       "      <td>31315</td>\n",
       "      <td>19</td>\n",
       "      <td>19</td>\n",
       "      <td>0</td>\n",
       "      <td>0.0</td>\n",
       "      <td>0.0</td>\n",
       "    </tr>\n",
       "    <tr>\n",
       "      <th>4725</th>\n",
       "      <td>10001</td>\n",
       "      <td>36</td>\n",
       "      <td>36</td>\n",
       "      <td>0</td>\n",
       "      <td>0.0</td>\n",
       "      <td>0.0</td>\n",
       "    </tr>\n",
       "  </tbody>\n",
       "</table>\n",
       "</div>"
      ],
      "text/plain": [
       "         ID  TOT  NON  MCT  RAT  GEO\n",
       "4721  31308   16   16    0  0.0  0.0\n",
       "4722  31312   28   28    0  0.0  0.0\n",
       "4723  31313   75   75    0  0.0  0.0\n",
       "4724  31315   19   19    0  0.0  0.0\n",
       "4725  10001   36   36    0  0.0  0.0"
      ]
     },
     "execution_count": 16,
     "metadata": {},
     "output_type": "execute_result"
    }
   ],
   "source": [
    "CountsDF.tail()"
   ]
  },
  {
   "cell_type": "code",
   "execution_count": 17,
   "metadata": {
    "collapsed": false
   },
   "outputs": [
    {
     "data": {
      "text/plain": [
       "4726"
      ]
     },
     "execution_count": 17,
     "metadata": {},
     "output_type": "execute_result"
    }
   ],
   "source": [
    "len(CountsDF)"
   ]
  },
  {
   "cell_type": "code",
   "execution_count": 18,
   "metadata": {
    "collapsed": true
   },
   "outputs": [],
   "source": [
    "MinCount = 20\n",
    "TF1 = CountsDF['NON'] >=MinCount\n",
    "TF2 = CountsDF['MCT'] >=MinCount\n",
    "CountsDF2 = pd.DataFrame(CountsDF[TF1&TF2]) \n",
    "GoodIDs = sorted(CountsDF2['ID'])"
   ]
  },
  {
   "cell_type": "code",
   "execution_count": 19,
   "metadata": {
    "collapsed": false
   },
   "outputs": [
    {
     "data": {
      "text/plain": [
       "684"
      ]
     },
     "execution_count": 19,
     "metadata": {},
     "output_type": "execute_result"
    }
   ],
   "source": [
    "len(CountsDF2)"
   ]
  },
  {
   "cell_type": "code",
   "execution_count": 20,
   "metadata": {
    "collapsed": true
   },
   "outputs": [],
   "source": [
    "Rows = []\n",
    "df2 = deepcopy(df)\n",
    "for ID in GoodIDs: \n",
    "    df3 = df2[df2['ZIP']==ID] \n",
    "    df3.index = list(range(len(df3)))\n",
    "    tf_mct = np.array(df3['MCT']==1) \n",
    "    ft_mct = np.logical_not(tf_mct) \n",
    "    mct_ave = df3[tf_mct]['SCORE'].mean()\n",
    "    non_ave = df3[ft_mct]['SCORE'].mean() \n",
    "    Rows.append([ID, mct_ave, non_ave])\n",
    "Rows.sort()\n",
    "Cols = ['ZIP','MCT_SCORE','NON_SCORE'] \n",
    "Buckets = pd.DataFrame(Rows,columns=Cols) \n",
    "Buckets['MCT_DIF'] = Buckets['MCT_SCORE'] - Buckets['NON_SCORE'] "
   ]
  },
  {
   "cell_type": "code",
   "execution_count": 21,
   "metadata": {
    "collapsed": false
   },
   "outputs": [
    {
     "data": {
      "text/html": [
       "<div>\n",
       "<table border=\"1\" class=\"dataframe\">\n",
       "  <thead>\n",
       "    <tr style=\"text-align: right;\">\n",
       "      <th></th>\n",
       "      <th>ZIP</th>\n",
       "      <th>MCT_SCORE</th>\n",
       "      <th>NON_SCORE</th>\n",
       "      <th>MCT_DIF</th>\n",
       "    </tr>\n",
       "  </thead>\n",
       "  <tbody>\n",
       "    <tr>\n",
       "      <th>0</th>\n",
       "      <td>49686</td>\n",
       "      <td>91.335000</td>\n",
       "      <td>107.533333</td>\n",
       "      <td>-16.198333</td>\n",
       "    </tr>\n",
       "    <tr>\n",
       "      <th>1</th>\n",
       "      <td>50310</td>\n",
       "      <td>91.887500</td>\n",
       "      <td>97.550943</td>\n",
       "      <td>-5.663443</td>\n",
       "    </tr>\n",
       "    <tr>\n",
       "      <th>2</th>\n",
       "      <td>50613</td>\n",
       "      <td>91.630435</td>\n",
       "      <td>103.355072</td>\n",
       "      <td>-11.724638</td>\n",
       "    </tr>\n",
       "    <tr>\n",
       "      <th>3</th>\n",
       "      <td>51503</td>\n",
       "      <td>99.313333</td>\n",
       "      <td>105.732727</td>\n",
       "      <td>-6.419394</td>\n",
       "    </tr>\n",
       "    <tr>\n",
       "      <th>4</th>\n",
       "      <td>52761</td>\n",
       "      <td>111.869565</td>\n",
       "      <td>117.018868</td>\n",
       "      <td>-5.149303</td>\n",
       "    </tr>\n",
       "  </tbody>\n",
       "</table>\n",
       "</div>"
      ],
      "text/plain": [
       "     ZIP   MCT_SCORE   NON_SCORE    MCT_DIF\n",
       "0  49686   91.335000  107.533333 -16.198333\n",
       "1  50310   91.887500   97.550943  -5.663443\n",
       "2  50613   91.630435  103.355072 -11.724638\n",
       "3  51503   99.313333  105.732727  -6.419394\n",
       "4  52761  111.869565  117.018868  -5.149303"
      ]
     },
     "execution_count": 21,
     "metadata": {},
     "output_type": "execute_result"
    }
   ],
   "source": [
    "Buckets.head()"
   ]
  },
  {
   "cell_type": "code",
   "execution_count": 22,
   "metadata": {
    "collapsed": false
   },
   "outputs": [
    {
     "data": {
      "text/html": [
       "<div>\n",
       "<table border=\"1\" class=\"dataframe\">\n",
       "  <thead>\n",
       "    <tr style=\"text-align: right;\">\n",
       "      <th></th>\n",
       "      <th>ZIP</th>\n",
       "      <th>MCT_SCORE</th>\n",
       "      <th>NON_SCORE</th>\n",
       "      <th>MCT_DIF</th>\n",
       "    </tr>\n",
       "  </thead>\n",
       "  <tbody>\n",
       "    <tr>\n",
       "      <th>0</th>\n",
       "      <td>86556.44883</td>\n",
       "      <td>109.392201</td>\n",
       "      <td>115.972867</td>\n",
       "      <td>-6.580666</td>\n",
       "    </tr>\n",
       "  </tbody>\n",
       "</table>\n",
       "</div>"
      ],
      "text/plain": [
       "           ZIP   MCT_SCORE   NON_SCORE   MCT_DIF\n",
       "0  86556.44883  109.392201  115.972867 -6.580666"
      ]
     },
     "execution_count": 22,
     "metadata": {},
     "output_type": "execute_result"
    }
   ],
   "source": [
    "AveBuckets = pd.DataFrame(Buckets.mean()).T\n",
    "Effect2 = AveBuckets['MCT_DIF'][0] \n",
    "AveBuckets"
   ]
  },
  {
   "cell_type": "code",
   "execution_count": 23,
   "metadata": {
    "collapsed": false
   },
   "outputs": [
    {
     "name": "stdout",
     "output_type": "stream",
     "text": [
      "Predicted MCT Effect on Test Score: -6.581 Points. :(\n"
     ]
    }
   ],
   "source": [
    "print 'Predicted MCT Effect on Test Score:',round(Effect2,3),'Points. :('"
   ]
  },
  {
   "cell_type": "code",
   "execution_count": 24,
   "metadata": {
    "collapsed": true
   },
   "outputs": [],
   "source": [
    "##############################################################\n",
    "##############################################################"
   ]
  },
  {
   "cell_type": "code",
   "execution_count": 25,
   "metadata": {
    "collapsed": false
   },
   "outputs": [
    {
     "data": {
      "text/html": [
       "<div>\n",
       "<table border=\"1\" class=\"dataframe\">\n",
       "  <thead>\n",
       "    <tr style=\"text-align: right;\">\n",
       "      <th></th>\n",
       "      <th>DATE</th>\n",
       "      <th>SCORE</th>\n",
       "      <th>STU_ID</th>\n",
       "      <th>MCT</th>\n",
       "      <th>STU_IQ</th>\n",
       "      <th>STU_ST</th>\n",
       "      <th>STU_BF</th>\n",
       "      <th>ZIP</th>\n",
       "    </tr>\n",
       "  </thead>\n",
       "  <tbody>\n",
       "    <tr>\n",
       "      <th>0</th>\n",
       "      <td>2017-09-10</td>\n",
       "      <td>59.4</td>\n",
       "      <td>GQCPF</td>\n",
       "      <td>0</td>\n",
       "      <td>94.0</td>\n",
       "      <td>3.0</td>\n",
       "      <td>0</td>\n",
       "      <td>70006</td>\n",
       "    </tr>\n",
       "    <tr>\n",
       "      <th>1</th>\n",
       "      <td>2016-03-29</td>\n",
       "      <td>75.2</td>\n",
       "      <td>NBXEV</td>\n",
       "      <td>0</td>\n",
       "      <td>87.0</td>\n",
       "      <td>13.0</td>\n",
       "      <td>0</td>\n",
       "      <td>71263</td>\n",
       "    </tr>\n",
       "    <tr>\n",
       "      <th>2</th>\n",
       "      <td>2016-11-03</td>\n",
       "      <td>110.4</td>\n",
       "      <td>EARNY</td>\n",
       "      <td>0</td>\n",
       "      <td>116.0</td>\n",
       "      <td>28.0</td>\n",
       "      <td>1</td>\n",
       "      <td>48223</td>\n",
       "    </tr>\n",
       "    <tr>\n",
       "      <th>3</th>\n",
       "      <td>2016-02-22</td>\n",
       "      <td>110.3</td>\n",
       "      <td>LXPHO</td>\n",
       "      <td>0</td>\n",
       "      <td>104.0</td>\n",
       "      <td>25.0</td>\n",
       "      <td>1</td>\n",
       "      <td>80524</td>\n",
       "    </tr>\n",
       "    <tr>\n",
       "      <th>4</th>\n",
       "      <td>2017-12-22</td>\n",
       "      <td>86.2</td>\n",
       "      <td>KGRBJ</td>\n",
       "      <td>1</td>\n",
       "      <td>118.0</td>\n",
       "      <td>0.0</td>\n",
       "      <td>1</td>\n",
       "      <td>70726</td>\n",
       "    </tr>\n",
       "  </tbody>\n",
       "</table>\n",
       "</div>"
      ],
      "text/plain": [
       "         DATE  SCORE STU_ID  MCT  STU_IQ  STU_ST  STU_BF    ZIP\n",
       "0  2017-09-10   59.4  GQCPF    0    94.0     3.0       0  70006\n",
       "1  2016-03-29   75.2  NBXEV    0    87.0    13.0       0  71263\n",
       "2  2016-11-03  110.4  EARNY    0   116.0    28.0       1  48223\n",
       "3  2016-02-22  110.3  LXPHO    0   104.0    25.0       1  80524\n",
       "4  2017-12-22   86.2  KGRBJ    1   118.0     0.0       1  70726"
      ]
     },
     "execution_count": 25,
     "metadata": {},
     "output_type": "execute_result"
    }
   ],
   "source": [
    "df.head()  "
   ]
  },
  {
   "cell_type": "code",
   "execution_count": 26,
   "metadata": {
    "collapsed": false
   },
   "outputs": [],
   "source": [
    "FixedModel = \"SCORE ~ STU_IQ+STU_ST+STU_BF+MCT\"        #+DEC_YR\" #+SEASON\"\n",
    "model = smf.mixedlm(FixedModel, df, groups=df[\"ZIP\"])\n",
    "result = model.fit() "
   ]
  },
  {
   "cell_type": "code",
   "execution_count": 27,
   "metadata": {
    "collapsed": false
   },
   "outputs": [
    {
     "data": {
      "text/html": [
       "<table class=\"simpletable\">\n",
       "<tr>\n",
       "       <td>Model:</td>       <td>MixedLM</td> <td>Dependent Variable:</td>     <td>SCORE</td>   \n",
       "</tr>\n",
       "<tr>\n",
       "  <td>No. Observations:</td> <td>237546</td>        <td>Method:</td>           <td>REML</td>    \n",
       "</tr>\n",
       "<tr>\n",
       "     <td>No. Groups:</td>     <td>4726</td>         <td>Scale:</td>           <td>65.2039</td>  \n",
       "</tr>\n",
       "<tr>\n",
       "  <td>Min. group size:</td>     <td>6</td>        <td>Likelihood:</td>     <td>-844214.5192</td>\n",
       "</tr>\n",
       "<tr>\n",
       "  <td>Max. group size:</td>    <td>263</td>       <td>Converged:</td>           <td>Yes</td>    \n",
       "</tr>\n",
       "<tr>\n",
       "  <td>Mean group size:</td>   <td>50.3</td>            <td></td>                 <td></td>      \n",
       "</tr>\n",
       "</table>\n",
       "<table class=\"simpletable\">\n",
       "<tr>\n",
       "        <td></td>        <th>Coef.</th>  <th>Std.Err.</th>     <th>z</th>    <th>P>|z|</th> <th>[0.025</th> <th>0.975]</th>\n",
       "</tr>\n",
       "<tr>\n",
       "  <th>Intercept</th>    <td>34.406</td>    <td>0.223</td>   <td>154.482</td> <td>0.000</td> <td>33.970</td> <td>34.843</td>\n",
       "</tr>\n",
       "<tr>\n",
       "  <th>STU_IQ</th>        <td>0.504</td>    <td>0.001</td>   <td>448.298</td> <td>0.000</td>  <td>0.502</td>  <td>0.506</td>\n",
       "</tr>\n",
       "<tr>\n",
       "  <th>STU_ST</th>        <td>0.410</td>    <td>0.001</td>   <td>424.715</td> <td>0.000</td>  <td>0.408</td>  <td>0.412</td>\n",
       "</tr>\n",
       "<tr>\n",
       "  <th>STU_BF</th>        <td>7.482</td>    <td>0.035</td>   <td>215.649</td> <td>0.000</td>  <td>7.414</td>  <td>7.550</td>\n",
       "</tr>\n",
       "<tr>\n",
       "  <th>MCT</th>          <td>-8.290</td>    <td>0.052</td>  <td>-160.531</td> <td>0.000</td> <td>-8.392</td> <td>-8.189</td>\n",
       "</tr>\n",
       "<tr>\n",
       "  <th>Intercept RE</th> <td>162.342</td>   <td>0.423</td>      <td></td>       <td></td>       <td></td>       <td></td>   \n",
       "</tr>\n",
       "</table>"
      ],
      "text/plain": [
       "<class 'statsmodels.iolib.summary2.Summary'>\n",
       "\"\"\"\n",
       "           Mixed Linear Model Regression Results\n",
       "==========================================================\n",
       "Model:            MixedLM Dependent Variable: SCORE       \n",
       "No. Observations: 237546  Method:             REML        \n",
       "No. Groups:       4726    Scale:              65.2039     \n",
       "Min. group size:  6       Likelihood:         -844214.5192\n",
       "Max. group size:  263     Converged:          Yes         \n",
       "Mean group size:  50.3                                    \n",
       "----------------------------------------------------------\n",
       "              Coef.  Std.Err.    z     P>|z| [0.025 0.975]\n",
       "----------------------------------------------------------\n",
       "Intercept     34.406    0.223  154.482 0.000 33.970 34.843\n",
       "STU_IQ         0.504    0.001  448.298 0.000  0.502  0.506\n",
       "STU_ST         0.410    0.001  424.715 0.000  0.408  0.412\n",
       "STU_BF         7.482    0.035  215.649 0.000  7.414  7.550\n",
       "MCT           -8.290    0.052 -160.531 0.000 -8.392 -8.189\n",
       "Intercept RE 162.342    0.423                             \n",
       "==========================================================\n",
       "\n",
       "\"\"\""
      ]
     },
     "execution_count": 27,
     "metadata": {},
     "output_type": "execute_result"
    }
   ],
   "source": [
    "summary = result.summary()\n",
    "summary"
   ]
  },
  {
   "cell_type": "code",
   "execution_count": 28,
   "metadata": {
    "collapsed": false
   },
   "outputs": [
    {
     "name": "stdout",
     "output_type": "stream",
     "text": [
      "Predicted MCT Effect on Test Score: -8.29 Points. 0_0 !!!\n"
     ]
    }
   ],
   "source": [
    "Effect3 = result.params['MCT']\n",
    "print 'Predicted MCT Effect on Test Score:',round(Effect3,3),'Points. 0_0 !!!'"
   ]
  },
  {
   "cell_type": "code",
   "execution_count": 29,
   "metadata": {
    "collapsed": true
   },
   "outputs": [],
   "source": [
    "##############################################################\n",
    "##############################################################"
   ]
  },
  {
   "cell_type": "code",
   "execution_count": 30,
   "metadata": {
    "collapsed": true
   },
   "outputs": [],
   "source": [
    "# [END] "
   ]
  },
  {
   "cell_type": "code",
   "execution_count": null,
   "metadata": {
    "collapsed": true
   },
   "outputs": [],
   "source": []
  },
  {
   "cell_type": "code",
   "execution_count": null,
   "metadata": {
    "collapsed": true
   },
   "outputs": [],
   "source": []
  }
 ],
 "metadata": {
  "kernelspec": {
   "display_name": "Python [default]",
   "language": "python",
   "name": "python2"
  },
  "language_info": {
   "codemirror_mode": {
    "name": "ipython",
    "version": 2
   },
   "file_extension": ".py",
   "mimetype": "text/x-python",
   "name": "python",
   "nbconvert_exporter": "python",
   "pygments_lexer": "ipython2",
   "version": "2.7.12"
  }
 },
 "nbformat": 4,
 "nbformat_minor": 1
}
